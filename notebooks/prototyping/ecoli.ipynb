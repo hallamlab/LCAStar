{
 "cells": [
  {
   "cell_type": "code",
   "execution_count": 2,
   "metadata": {},
   "outputs": [],
   "source": [
    "from __future__ import annotations\n",
    "import json\n",
    "import pandas as pd\n",
    "import json\n",
    "import numpy as np\n",
    "from typing import Iterable\n",
    "from dataclasses import dataclass, field\n",
    "\n",
    "# http://etetoolkit.org/download/\n",
    "# http://etetoolkit.org/docs/latest/tutorial/tutorial_ncbitaxonomy.html#setting-up-a-local-copy-of-the-ncbi-taxonomy-database\n",
    "# warning: ete tk inserts itself into ~/.local/share/ete/\n",
    "from ete4 import NCBITaxa\n",
    "ncbi = NCBITaxa()\n",
    "\n",
    "from local.utils import regex\n",
    "from local.web import ncbi_search, chain_get\n"
   ]
  },
  {
   "cell_type": "code",
   "execution_count": 3,
   "metadata": {},
   "outputs": [],
   "source": [
    "_df = pd.read_csv(\"./cache/ecoli_nr.tsv\", sep=\"\\t\", header=None)\n",
    "hits = {}\n",
    "for _, row in _df.iterrows():\n",
    "    query, subject, pident, bitscore = row\n",
    "    hits[query] = hits.get(query, []) + [(subject, pident, bitscore)]\n",
    "\n",
    "for q, d in hits.items():\n",
    "    hits[q] = sorted(d, key=lambda x: x[2], reverse=True)"
   ]
  },
  {
   "cell_type": "code",
   "execution_count": 6,
   "metadata": {},
   "outputs": [
    {
     "name": "stdout",
     "output_type": "stream",
     "text": [
      "4316/4316\r"
     ]
    }
   ],
   "source": [
    "tax_id_hits: dict[str, int] = {}\n",
    "for i, (q, d) in enumerate(hits.items()):\n",
    "    print(f\"{i+1}/{len(hits)}\", end=\"\\r\")\n",
    "    best = d[0]\n",
    "    subject, pident, bitscore = best\n",
    "\n",
    "    err, all_meta = ncbi_search(subject, \"protein\", silent=True)\n",
    "    if err is not None: continue\n",
    "    meta = chain_get(all_meta[0], \"eSummaryResult, DocSum, Item\")\n",
    "    if meta is None: continue\n",
    "    tax = [x for x in meta if x[\"@Name\"] == \"TaxId\"][0][\"#text\"]\n",
    "    tax_id_hits[tax] = tax_id_hits.get(tax, 0) + 1"
   ]
  }
 ],
 "metadata": {
  "kernelspec": {
   "display_name": "p311",
   "language": "python",
   "name": "python3"
  },
  "language_info": {
   "codemirror_mode": {
    "name": "ipython",
    "version": 3
   },
   "file_extension": ".py",
   "mimetype": "text/x-python",
   "name": "python",
   "nbconvert_exporter": "python",
   "pygments_lexer": "ipython3",
   "version": "3.11.6"
  }
 },
 "nbformat": 4,
 "nbformat_minor": 2
}
