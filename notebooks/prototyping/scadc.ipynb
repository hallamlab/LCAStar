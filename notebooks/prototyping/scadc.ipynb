{
 "cells": [
  {
   "cell_type": "code",
   "execution_count": 22,
   "metadata": {},
   "outputs": [],
   "source": [
    "from __future__ import annotations\n",
    "import json\n",
    "import pandas as pd\n",
    "import json\n",
    "import numpy as np\n",
    "from typing import Iterable\n",
    "from dataclasses import dataclass, field\n",
    "\n",
    "# http://etetoolkit.org/download/\n",
    "# http://etetoolkit.org/docs/latest/tutorial/tutorial_ncbitaxonomy.html#setting-up-a-local-copy-of-the-ncbi-taxonomy-database\n",
    "# warning: ete tk inserts itself into ~/.local/share/ete/\n",
    "from ete4 import NCBITaxa\n",
    "ncbi = NCBITaxa()\n",
    "\n",
    "from local.utils import regex"
   ]
  },
  {
   "cell_type": "code",
   "execution_count": 23,
   "metadata": {},
   "outputs": [
    {
     "name": "stdout",
     "output_type": "stream",
     "text": [
      "(98034, 5)\n"
     ]
    },
    {
     "data": {
      "text/plain": [
       "(4127, 93071)"
      ]
     },
     "execution_count": 23,
     "metadata": {},
     "output_type": "execute_result"
    }
   ],
   "source": [
    "_df = pd.read_csv(\"../../data/scadc_nr.tsv\", header=None, sep=\"\\t\")\n",
    "print(_df.shape)\n",
    "hits = {}\n",
    "meta = {}\n",
    "for _, row in _df.iterrows():\n",
    "    query, subject, annotation, pident, bitscore = row\n",
    "    hits[query] = hits.get(query, []) + [(subject, pident, bitscore)]\n",
    "\n",
    "    if subject in meta: continue\n",
    "    meta[subject] = annotation\n",
    "\n",
    "for q, d in hits.items():\n",
    "    hits[q] = sorted(d, key=lambda x: x[2], reverse=True)\n",
    "\n",
    "len(hits), len(meta)"
   ]
  },
  {
   "cell_type": "code",
   "execution_count": 24,
   "metadata": {},
   "outputs": [],
   "source": [
    "_rows = []\n",
    "for i, (q, d) in enumerate(hits.items()):\n",
    "    # print(f\"{i}/{len(hits)}\", end=\"\\r\")\n",
    "    best = d[0]\n",
    "    subject, pident, bitscore = best\n",
    "\n",
    "    ann = meta[subject]\n",
    "    tax = next(regex(r\"\\[.+\\]\", ann))[1:-1]\n",
    "\n",
    "    _rows.append((q, tax, pident, bitscore))\n",
    "\n",
    "_df = pd.DataFrame(_rows, columns=[\"query\", \"tax\", \"pident\", \"bitscore\"])"
   ]
  },
  {
   "cell_type": "code",
   "execution_count": 25,
   "metadata": {},
   "outputs": [],
   "source": [
    "def tax_from_sci_name(sci_name):\n",
    "    _get = lambda x: next(iter(x.values()))\n",
    "    tax_data = ncbi.get_name_translator([sci_name])\n",
    "    if len(tax_data)==0: # retry with genus\n",
    "        tax_data = ncbi.get_name_translator([sci_name.split(\" \")[0]])\n",
    "    if len(tax_data)==0:\n",
    "        taxid, match_type = None, None\n",
    "    else:\n",
    "        taxid = _get(tax_data)[0]\n",
    "        match_type = _get(ncbi.get_rank([taxid]))\n",
    "    return taxid, match_type"
   ]
  },
  {
   "cell_type": "code",
   "execution_count": 26,
   "metadata": {},
   "outputs": [
    {
     "name": "stdout",
     "output_type": "stream",
     "text": [
      "(4127, 4)\n",
      "(4096, 6)\n"
     ]
    }
   ],
   "source": [
    "print(_df.shape)\n",
    "_rows = []\n",
    "for _, row in _df.iterrows():\n",
    "    q, tax, pident, bitscore = row\n",
    "    taxid, match_type = tax_from_sci_name(tax)\n",
    "    if taxid is None: continue\n",
    "    id_lin = ncbi.get_lineage(taxid)\n",
    "    assert id_lin is not None\n",
    "    names = ncbi.get_taxid_translator(id_lin)\n",
    "    ranks = ncbi.get_rank(id_lin)\n",
    "    lineage = [(ranks[id], names[id]) for id in id_lin if ranks[id] != \"no rank\"]\n",
    "\n",
    "    _rows.append((q, tax, taxid, pident, bitscore, json.dumps(lineage, separators=(',', ':'))))\n",
    "_df = pd.DataFrame(_rows, columns=['query', 'sci_name', 'taxid', 'pident', 'bitscore', 'lineage_json'])\n",
    "print(_df.shape)"
   ]
  },
  {
   "cell_type": "code",
   "execution_count": null,
   "metadata": {},
   "outputs": [],
   "source": [
    "@dataclass\n",
    "class Node:\n",
    "    name: str\n",
    "    level: str\n",
    "    entropy: float =    field(default_factory=lambda: 0.0)\n",
    "    count: int =        field(default_factory=lambda: 0)\n",
    "    sum_entropy: float =field(default_factory=lambda: 0.0)\n",
    "    sum_count: int =    field(default_factory=lambda: 0)\n",
    "    parent: Node|None = field(default_factory=lambda: None)\n",
    "\n",
    "    def __str__(self) -> str:\n",
    "        return f\"<{self.name}, entropy={self.sum_entropy}, count={self.sum_count}>\"\n",
    "    \n",
    "    def __repr__(self) -> str:\n",
    "        return self.__str__()\n",
    "\n",
    "class Lineage:\n",
    "    def __init__(self, lineage: Iterable[tuple[str, str]]|None = None) -> None:\n",
    "        \"\"\"@lineage is iterable of (name, level) tuples\"\"\"\n",
    "        self._i = 0\n",
    "        self._lineage: list[tuple[str, str]] = [] if lineage is None else list(lineage)\n",
    "\n",
    "    def Add(self, name: str, level: str):\n",
    "        self._lineage.append((name, level))\n",
    "\n",
    "    def __iter__(self):\n",
    "        self._i = 0\n",
    "        return self\n",
    "    \n",
    "    def __next__(self):\n",
    "        if self._i >= len(self._lineage): raise StopIteration\n",
    "        self._i += 1\n",
    "        return self._lineage[self._i-1]\n",
    "\n",
    "class Tree:\n",
    "    def __init__(self) -> None:\n",
    "        self.root = Node(\"root\", \"root\")\n",
    "        self.nodes: dict[str, Node] = {self.root.name:self.root}\n",
    "        self.sum = 0\n",
    "\n",
    "    def NewObservation(self, lineage: Lineage):\n",
    "        self.sum += 1\n",
    "        parent = self.root\n",
    "        for k, level in lineage:\n",
    "            if k not in self.nodes:\n",
    "                self.nodes[k] = Node(k, level, parent=parent)\n",
    "            else:\n",
    "                assert self.nodes[k].parent == parent, f\"invalid lineage: the parent of [{k}] was previously said to be [{self.nodes[k].parent}], now [{parent.name}]\"\n",
    "            parent = self.nodes[k]\n",
    "        leaf = parent # last node assigned in the loop\n",
    "        leaf.count += 1\n",
    "\n",
    "    def BestLineage(self) -> list[Node]:\n",
    "        # update entropy\n",
    "        for node in self.nodes.values():\n",
    "            node.entropy = 0.0\n",
    "\n",
    "        for node in self.nodes.values():\n",
    "            if node.count == 0: continue\n",
    "\n",
    "            r_of_x = node.count/self.sum\n",
    "            c = node.count\n",
    "            entropy = r_of_x*np.log10(r_of_x)\n",
    "            while node is not None:\n",
    "                node.sum_entropy += entropy\n",
    "                node.sum_count += c\n",
    "                node = node.parent\n",
    "        \n",
    "        # find best lineage\n",
    "        all_children: dict[str, list[Node]] = {}\n",
    "        for node in self.nodes.values():\n",
    "            if node.parent is None: continue\n",
    "            if node.parent.name not in all_children:\n",
    "                all_children[node.parent.name] = []\n",
    "            all_children[node.parent.name].append(node)\n",
    "\n",
    "        lineage: list[Node] = []\n",
    "        node = self.root\n",
    "        children = all_children[node.name]\n",
    "        while True:\n",
    "            # best = sorted(children, key=lambda x: x.sum_count, reverse=True)[0]\n",
    "            best = sorted(children, key=lambda x: x.sum_entropy)[0]\n",
    "            lineage.append(best)\n",
    "            if best.name not in all_children: break\n",
    "            children = all_children[best.name]\n",
    "\n",
    "        return lineage\n",
    "        \n",
    "trees: dict[str, Tree] = {}\n",
    "ranks = {}\n",
    "for _, row in _df.iterrows():\n",
    "    query, sci_name, taxid, pident, bitscore, lineage_json = row\n",
    "    entry = query.split(\"_\")[0]\n",
    "    lineage = Lineage()\n",
    "    for rank, name in json.loads(lineage_json):\n",
    "        ranks[name] = rank\n",
    "        lineage.Add(name, rank)\n",
    "    if entry not in trees:\n",
    "        trees[entry] = Tree()\n",
    "    trees[entry].NewObservation(lineage)\n",
    "\n",
    "for i, (k, tree) in enumerate(trees.items()):\n",
    "    # if i != 3: continue\n",
    "    lin = tree.BestLineage()\n",
    "    print(k)\n",
    "    print([(n.level, n.name) for n in lin if n.level not in {\"clade\", }])\n",
    "    print([(n.sum_count) for n in lin])\n",
    "    print([(round(n.sum_entropy*100)/100) for n in lin])\n",
    "    print()\n",
    "\n",
    "    # break"
   ]
  },
  {
   "cell_type": "code",
   "execution_count": null,
   "metadata": {},
   "outputs": [],
   "source": []
  }
 ],
 "metadata": {
  "kernelspec": {
   "display_name": "p311",
   "language": "python",
   "name": "python3"
  },
  "language_info": {
   "codemirror_mode": {
    "name": "ipython",
    "version": 3
   },
   "file_extension": ".py",
   "mimetype": "text/x-python",
   "name": "python",
   "nbconvert_exporter": "python",
   "pygments_lexer": "ipython3",
   "version": "3.11.6"
  }
 },
 "nbformat": 4,
 "nbformat_minor": 2
}
